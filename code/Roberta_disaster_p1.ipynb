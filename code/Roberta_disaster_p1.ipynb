{
 "cells": [
  {
   "cell_type": "markdown",
   "id": "412ec8f0-cd2b-4705-8d50-d669b0f7a3a0",
   "metadata": {
    "tags": []
   },
   "source": [
    "## Classification of Tweets about Disaster Using Roberta\n",
    "\n",
    "Below is a sample code to fine-tune Roberta model for annotated tweets that are labeled as \"not about disaster\" (0) or \"about disaster\" (1)."
   ]
  },
  {
   "cell_type": "markdown",
   "id": "dee72246-4432-46a7-8351-f30a5bc4bde9",
   "metadata": {},
   "source": [
    "#### Step 1: Download Packages"
   ]
  },
  {
   "cell_type": "code",
   "execution_count": 1,
   "id": "a05147da-0df7-49cd-9d8c-e9197a61326e",
   "metadata": {},
   "outputs": [
    {
     "name": "stderr",
     "output_type": "stream",
     "text": [
      "/Users/volhakatebi/miniconda3/envs/transformers/lib/python3.10/site-packages/scipy/__init__.py:146: UserWarning: A NumPy version >=1.16.5 and <1.23.0 is required for this version of SciPy (detected version 1.23.5\n",
      "  warnings.warn(f\"A NumPy version >={np_minversion} and <{np_maxversion}\"\n"
     ]
    },
    {
     "data": {
      "text/plain": [
       "<torch._C.Generator at 0x117e59b90>"
      ]
     },
     "execution_count": 1,
     "metadata": {},
     "output_type": "execute_result"
    }
   ],
   "source": [
    "from transformers import AutoTokenizer\n",
    "from transformers import Trainer, TrainingArguments, RobertaForSequenceClassification, \\\n",
    "     RobertaTokenizerFast,DataCollatorWithPadding, pipeline\n",
    "from datasets import load_metric, Dataset\n",
    "import numpy as np\n",
    "import evaluate\n",
    "import pandas as pd\n",
    "import sklearn\n",
    "import re\n",
    "import os\n",
    "import torch\n",
    "from sklearn import metrics\n",
    "from sklearn.metrics import confusion_matrix, ConfusionMatrixDisplay\n",
    "import matplotlib.pyplot as plt\n",
    "from sklearn.metrics import precision_recall_curve\n",
    "from sklearn.metrics import PrecisionRecallDisplay\n",
    "from sklearn.metrics import classification_report\n",
    "from matplotlib.pylab import plt\n",
    "from numpy import arange\n",
    "\n",
    "pd.set_option('display.max_colwidth', None)\n",
    "os.environ[\"WANDB_DISABLED\"] = \"true\"\n",
    "torch.manual_seed(123)\n",
    "\n",
    "#InteractiveShell.ast_node_interactivity = \"all\"  \n",
    "#from IPython.core.interactiveshell import InteractiveShell "
   ]
  },
  {
   "cell_type": "markdown",
   "id": "f552f8a6-8094-4334-a6df-17e0775709ac",
   "metadata": {},
   "source": [
    "#### Step 2: Download Tokenizer and Model"
   ]
  },
  {
   "cell_type": "code",
   "execution_count": 2,
   "id": "211cb354-7f8c-4f32-b84c-a57d11cce836",
   "metadata": {},
   "outputs": [
    {
     "name": "stderr",
     "output_type": "stream",
     "text": [
      "Some weights of the model checkpoint at roberta-base were not used when initializing RobertaForSequenceClassification: ['lm_head.decoder.weight', 'lm_head.layer_norm.bias', 'roberta.pooler.dense.weight', 'lm_head.bias', 'lm_head.layer_norm.weight', 'lm_head.dense.weight', 'lm_head.dense.bias', 'roberta.pooler.dense.bias']\n",
      "- This IS expected if you are initializing RobertaForSequenceClassification from the checkpoint of a model trained on another task or with another architecture (e.g. initializing a BertForSequenceClassification model from a BertForPreTraining model).\n",
      "- This IS NOT expected if you are initializing RobertaForSequenceClassification from the checkpoint of a model that you expect to be exactly identical (initializing a BertForSequenceClassification model from a BertForSequenceClassification model).\n",
      "Some weights of RobertaForSequenceClassification were not initialized from the model checkpoint at roberta-base and are newly initialized: ['classifier.dense.weight', 'classifier.out_proj.weight', 'classifier.out_proj.bias', 'classifier.dense.bias']\n",
      "You should probably TRAIN this model on a down-stream task to be able to use it for predictions and inference.\n"
     ]
    }
   ],
   "source": [
    "tokenizer = RobertaTokenizerFast.from_pretrained('roberta-base', max_length = 512)\n",
    "sequence_clf_model = RobertaForSequenceClassification.from_pretrained('roberta-base', hidden_dropout_prob=0.2)"
   ]
  },
  {
   "cell_type": "code",
   "execution_count": 3,
   "id": "731dce55-4e36-44fe-b423-b4a473b590d3",
   "metadata": {},
   "outputs": [
    {
     "name": "stdout",
     "output_type": "stream",
     "text": [
      "50265\n"
     ]
    },
    {
     "data": {
      "text/plain": [
       "50265"
      ]
     },
     "execution_count": 3,
     "metadata": {},
     "output_type": "execute_result"
    }
   ],
   "source": [
    "#ensure that tokenizer and model have the same number of unique tokens\n",
    "sequence_clf_model.resize_token_embeddings((len(tokenizer)))\n",
    "print(sequence_clf_model.config.vocab_size)\n",
    "len(tokenizer)"
   ]
  },
  {
   "cell_type": "markdown",
   "id": "0586b6e7-7ab4-4cef-bc5a-054d2ccd096f",
   "metadata": {},
   "source": [
    "#### Step 3: Download Data & Check Counts for Each Class"
   ]
  },
  {
   "cell_type": "code",
   "execution_count": 4,
   "id": "ffe16f0e-e69c-41c1-bfe6-9de311e85b51",
   "metadata": {},
   "outputs": [
    {
     "data": {
      "text/html": [
       "<div>\n",
       "<style scoped>\n",
       "    .dataframe tbody tr th:only-of-type {\n",
       "        vertical-align: middle;\n",
       "    }\n",
       "\n",
       "    .dataframe tbody tr th {\n",
       "        vertical-align: top;\n",
       "    }\n",
       "\n",
       "    .dataframe thead th {\n",
       "        text-align: right;\n",
       "    }\n",
       "</style>\n",
       "<table border=\"1\" class=\"dataframe\">\n",
       "  <thead>\n",
       "    <tr style=\"text-align: right;\">\n",
       "      <th></th>\n",
       "      <th>text</th>\n",
       "      <th>target</th>\n",
       "    </tr>\n",
       "  </thead>\n",
       "  <tbody>\n",
       "    <tr>\n",
       "      <th>0</th>\n",
       "      <td>Our Deeds are the Reason of this #earthquake May ALLAH Forgive us all</td>\n",
       "      <td>1</td>\n",
       "    </tr>\n",
       "    <tr>\n",
       "      <th>1</th>\n",
       "      <td>Forest fire near La Ronge Sask. Canada</td>\n",
       "      <td>1</td>\n",
       "    </tr>\n",
       "  </tbody>\n",
       "</table>\n",
       "</div>"
      ],
      "text/plain": [
       "                                                                    text  \\\n",
       "0  Our Deeds are the Reason of this #earthquake May ALLAH Forgive us all   \n",
       "1                                 Forest fire near La Ronge Sask. Canada   \n",
       "\n",
       "   target  \n",
       "0       1  \n",
       "1       1  "
      ]
     },
     "execution_count": 4,
     "metadata": {},
     "output_type": "execute_result"
    }
   ],
   "source": [
    "df_disaster = pd.read_csv(\"train.csv\", encoding='utf-8', nrows=1000)\n",
    "df_disaster = df_disaster[[\"text\", \"target\"]]\n",
    "df_disaster.head(2)"
   ]
  },
  {
   "cell_type": "code",
   "execution_count": 5,
   "id": "ce30768f-6c06-4f80-ba27-763f2be8d68d",
   "metadata": {},
   "outputs": [
    {
     "data": {
      "text/plain": [
       "target\n",
       "0    695\n",
       "1    305\n",
       "dtype: int64"
      ]
     },
     "execution_count": 5,
     "metadata": {},
     "output_type": "execute_result"
    }
   ],
   "source": [
    "df_disaster.shape #train model on 1000 data points\n",
    "df_disaster.groupby('target').size() #number of data points in each class"
   ]
  },
  {
   "cell_type": "markdown",
   "id": "c0a304b8-73c9-443a-9bca-0e1ac6dc7270",
   "metadata": {},
   "source": [
    "#### Step 4: Basic Data Preprocessing\n",
    "\n",
    "* **prune_multple_consecutive_same_char** will make words like yessssss into yess\n",
    "* **clean_tweet** will lowercase; remove \\n; remove meaningless common symbols; strip extra white spaces"
   ]
  },
  {
   "cell_type": "code",
   "execution_count": 6,
   "id": "ba547855-8c7d-4ee1-9b45-4b04624e266f",
   "metadata": {},
   "outputs": [
    {
     "data": {
      "text/plain": [
       "'yess!!'"
      ]
     },
     "execution_count": 6,
     "metadata": {},
     "output_type": "execute_result"
    }
   ],
   "source": [
    "def prune_multple_consecutive_same_char(tweet_text):\n",
    "    '''\n",
    "    yesssssssss  is converted to yes\n",
    "    ssssssssssh is converted to ssh\n",
    "    '''\n",
    "    tweet_text = re.sub(r'(.)\\1+', r'\\1\\1', tweet_text)\n",
    "    return tweet_text\n",
    "\n",
    "prune_multple_consecutive_same_char(\"yessss!!!!\")"
   ]
  },
  {
   "cell_type": "code",
   "execution_count": 7,
   "id": "8ca62fd1-683c-482f-b785-1d3de0c8d6ca",
   "metadata": {},
   "outputs": [],
   "source": [
    "#remove emoji\n",
    "def remove_emojis(data):\n",
    "    emoj = re.compile(\"[\"\n",
    "        u\"\\U0001F600-\\U0001F64F\"  # emoticons\n",
    "        u\"\\U0001F300-\\U0001F5FF\"  # symbols & pictographs\n",
    "        u\"\\U0001F680-\\U0001F6FF\"  # transport & map symbols\n",
    "        u\"\\U0001F1E0-\\U0001F1FF\"  # flags (iOS)\n",
    "        u\"\\U00002500-\\U00002BEF\"  # chinese char\n",
    "        u\"\\U00002702-\\U000027B0\"\n",
    "        u\"\\U00002702-\\U000027B0\"\n",
    "        u\"\\U000024C2-\\U0001F251\"\n",
    "        u\"\\U0001f926-\\U0001f937\"\n",
    "        u\"\\U00010000-\\U0010ffff\"\n",
    "        u\"\\u2640-\\u2642\" \n",
    "        u\"\\u2600-\\u2B55\"\n",
    "        u\"\\u200d\"\n",
    "        u\"\\u23cf\"\n",
    "        u\"\\u23e9\"\n",
    "        u\"\\u231a\"\n",
    "        u\"\\ufe0f\"  # dingbats\n",
    "        u\"\\u3030\"\n",
    "                      \"]+\", re.UNICODE)\n",
    "    return re.sub(emoj, '', data)"
   ]
  },
  {
   "cell_type": "code",
   "execution_count": 8,
   "id": "9c2d88ef-98c5-4dae-a172-5e9948cc96df",
   "metadata": {},
   "outputs": [],
   "source": [
    "def clean_tweet(text):\n",
    "    text = text.lower()\n",
    "    text = prune_multple_consecutive_same_char(text)\n",
    "    text = remove_emojis(text) \n",
    "    text = text.replace('\\\\n', '')\n",
    "    text = re.sub(r'http\\S+', '', text) \n",
    "    text = re.sub(\"@[A-Za-z0-9_]+\",'', text)\n",
    "    text = text.encode('ascii',errors='ignore').decode()\n",
    "    text = re.sub(\"^\\s+|\\s+$\", \"\", text, flags=re.UNICODE)\n",
    "    text = \" \".join(re.split(\"\\s+\", text, flags=re.UNICODE))\n",
    "    return text"
   ]
  },
  {
   "cell_type": "code",
   "execution_count": 9,
   "id": "a4f87bc6-40ab-482e-b05c-825206138187",
   "metadata": {
    "tags": []
   },
   "outputs": [],
   "source": [
    "df_disaster.loc[:, \"clean_text\"] = df_disaster.loc[:, \"text\"].apply(clean_tweet)#run function for each tweet"
   ]
  },
  {
   "cell_type": "code",
   "execution_count": 10,
   "id": "932bfd83-11c1-403f-9c78-fea25a09c27d",
   "metadata": {},
   "outputs": [
    {
     "data": {
      "text/html": [
       "<div>\n",
       "<style scoped>\n",
       "    .dataframe tbody tr th:only-of-type {\n",
       "        vertical-align: middle;\n",
       "    }\n",
       "\n",
       "    .dataframe tbody tr th {\n",
       "        vertical-align: top;\n",
       "    }\n",
       "\n",
       "    .dataframe thead th {\n",
       "        text-align: right;\n",
       "    }\n",
       "</style>\n",
       "<table border=\"1\" class=\"dataframe\">\n",
       "  <thead>\n",
       "    <tr style=\"text-align: right;\">\n",
       "      <th></th>\n",
       "      <th>text</th>\n",
       "      <th>target</th>\n",
       "      <th>clean_text</th>\n",
       "    </tr>\n",
       "  </thead>\n",
       "  <tbody>\n",
       "    <tr>\n",
       "      <th>1</th>\n",
       "      <td>Forest fire near La Ronge Sask. Canada</td>\n",
       "      <td>1</td>\n",
       "      <td>forest fire near la ronge sask. canada</td>\n",
       "    </tr>\n",
       "  </tbody>\n",
       "</table>\n",
       "</div>"
      ],
      "text/plain": [
       "                                     text  target  \\\n",
       "1  Forest fire near La Ronge Sask. Canada       1   \n",
       "\n",
       "                               clean_text  \n",
       "1  forest fire near la ronge sask. canada  "
      ]
     },
     "execution_count": 10,
     "metadata": {},
     "output_type": "execute_result"
    }
   ],
   "source": [
    "df_disaster[1:2]"
   ]
  },
  {
   "cell_type": "markdown",
   "id": "e6045f0f-50db-427b-8c9a-4c31d1613021",
   "metadata": {},
   "source": [
    "#### Step 5: Prepare Data for the Models in a Manageable Format\n",
    "\n",
    "* put tweets & labels in separate lists"
   ]
  },
  {
   "cell_type": "code",
   "execution_count": 11,
   "id": "25d44c6d-fcd7-4dcc-bd36-61e353adf5b5",
   "metadata": {},
   "outputs": [],
   "source": [
    "tweets = df_disaster[\"clean_text\"].values.tolist()\n",
    "sequence_labels = df_disaster[\"target\"].values.tolist()"
   ]
  },
  {
   "cell_type": "markdown",
   "id": "b62a5f15-c7b2-4908-a067-26ff165567c7",
   "metadata": {},
   "source": [
    "\n",
    "* print the length of documents/tweets and labels to make sure we have the same number"
   ]
  },
  {
   "cell_type": "code",
   "execution_count": 12,
   "id": "180b9a15-1791-4fec-baf2-af19853bf31d",
   "metadata": {},
   "outputs": [
    {
     "name": "stdout",
     "output_type": "stream",
     "text": [
      "Number of tweets: 1000\n",
      "Number of labels: 1000\n"
     ]
    }
   ],
   "source": [
    "print(\"Number of tweets:\",len(tweets))\n",
    "print(\"Number of labels:\",len(sequence_labels))"
   ]
  },
  {
   "cell_type": "markdown",
   "id": "4a8263b9-6ec9-45d1-8755-fc241eb2b6a0",
   "metadata": {},
   "source": [
    "* print an example of a tweet and label in the list to make sure everything looks as expected"
   ]
  },
  {
   "cell_type": "code",
   "execution_count": 13,
   "id": "41816bc2-9768-45d7-9e88-dbed1be02046",
   "metadata": {},
   "outputs": [
    {
     "name": "stdout",
     "output_type": "stream",
     "text": [
      "Example of a tweet in the list: our deeds are the reason of this #earthquake may allah forgive us all\n"
     ]
    }
   ],
   "source": [
    "print(\"Example of a tweet in the list:\", tweets[0])"
   ]
  },
  {
   "cell_type": "code",
   "execution_count": 14,
   "id": "21cf1d47-9b09-4d94-9276-ecc9844df9b8",
   "metadata": {},
   "outputs": [
    {
     "name": "stdout",
     "output_type": "stream",
     "text": [
      "Example of a label in the list: 1\n"
     ]
    }
   ],
   "source": [
    "print(\"Example of a label in the list:\", sequence_labels[0])"
   ]
  },
  {
   "cell_type": "markdown",
   "id": "1885675d-6e44-4dc9-9349-24b6b415132c",
   "metadata": {},
   "source": [
    "* print all unique labels"
   ]
  },
  {
   "cell_type": "code",
   "execution_count": 15,
   "id": "5747828b-8a06-4a9e-bac9-d2c6d289b284",
   "metadata": {},
   "outputs": [
    {
     "name": "stdout",
     "output_type": "stream",
     "text": [
      "List of all unique labels: [0, 1]\n"
     ]
    }
   ],
   "source": [
    "unique_sequence_labels = list(set(sequence_labels))\n",
    "print(\"List of all unique labels:\", unique_sequence_labels)"
   ]
  },
  {
   "cell_type": "markdown",
   "id": "80bc6620-7643-48a3-8183-105f1823498d",
   "metadata": {},
   "source": [
    "#### Step 5: Split Data into Train-Test and Prepare for Modeling\n",
    "\n",
    "* put data in the dataset object; need to specify dictionary structure"
   ]
  },
  {
   "cell_type": "code",
   "execution_count": 16,
   "id": "4ee5c17b-9417-42b3-81b5-555de9420593",
   "metadata": {},
   "outputs": [],
   "source": [
    "our_dataset = Dataset.from_dict(\n",
    "    dict(\n",
    "        tweets=tweets, \n",
    "        label=sequence_labels))"
   ]
  },
  {
   "cell_type": "code",
   "execution_count": 17,
   "id": "d63c529d-6cb8-4a98-a27c-8d76d977e072",
   "metadata": {},
   "outputs": [
    {
     "name": "stdout",
     "output_type": "stream",
     "text": [
      "Dataset({\n",
      "    features: ['tweets', 'label'],\n",
      "    num_rows: 1000\n",
      "})\n"
     ]
    }
   ],
   "source": [
    "print(our_dataset)"
   ]
  },
  {
   "cell_type": "code",
   "execution_count": 18,
   "id": "248baabc-22e4-41a0-bd6e-8e844808890b",
   "metadata": {},
   "outputs": [
    {
     "name": "stdout",
     "output_type": "stream",
     "text": [
      "Example of one element in the dataset object:\n"
     ]
    },
    {
     "data": {
      "text/plain": [
       "{'tweets': 'our deeds are the reason of this #earthquake may allah forgive us all',\n",
       " 'label': 1}"
      ]
     },
     "execution_count": 18,
     "metadata": {},
     "output_type": "execute_result"
    }
   ],
   "source": [
    "print(\"Example of one element in the dataset object:\") \n",
    "our_dataset[0]"
   ]
  },
  {
   "cell_type": "markdown",
   "id": "f57c4b09-6785-445b-aeac-0f7fa49976e8",
   "metadata": {},
   "source": [
    "* divide data into train-test"
   ]
  },
  {
   "cell_type": "code",
   "execution_count": 19,
   "id": "3ba4018e-9da2-4c07-a934-2a23d70e3de6",
   "metadata": {},
   "outputs": [],
   "source": [
    "our_dataset = our_dataset.train_test_split(test_size=0.2, seed=123)"
   ]
  },
  {
   "cell_type": "code",
   "execution_count": 20,
   "id": "986dda06-8707-4071-8706-f4577038c414",
   "metadata": {},
   "outputs": [
    {
     "data": {
      "text/plain": [
       "{'tweets': ['did anyone else see that fireball falling to earth? look like a plane blew up.',\n",
       "  'i want a full on bitch slapping guns blazing cake throwing charles showdown!! now that will be worth the wait ??'],\n",
       " 'label': [1, 0]}"
      ]
     },
     "execution_count": 20,
     "metadata": {},
     "output_type": "execute_result"
    }
   ],
   "source": [
    "our_dataset['test'][:2]"
   ]
  },
  {
   "cell_type": "markdown",
   "id": "c628e3b4-1f78-4e4d-92b7-69393742f042",
   "metadata": {},
   "source": [
    "our_dataset['train'][:]Access a single example in train or test data to check it:"
   ]
  },
  {
   "cell_type": "code",
   "execution_count": 21,
   "id": "3af189cc-53d9-4c18-8e91-a4e15eb796c8",
   "metadata": {},
   "outputs": [
    {
     "data": {
      "text/plain": [
       "{'tweets': ['320 [ir] icemoon [aftershock] | | | #dubstep #trapmusic #dnb #edm #dance #ices_',\n",
       "  'and my mentions are blown up for what? ?? wtf.'],\n",
       " 'label': [0, 0]}"
      ]
     },
     "execution_count": 21,
     "metadata": {},
     "output_type": "execute_result"
    }
   ],
   "source": [
    "our_dataset['train'][:2]"
   ]
  },
  {
   "cell_type": "markdown",
   "id": "825a7452-205f-43b7-9b6d-7c9fdd08f04c",
   "metadata": {},
   "source": [
    "* check counts of lables in train & test splits"
   ]
  },
  {
   "cell_type": "code",
   "execution_count": 22,
   "id": "08de33c5-2558-4195-b905-aa4680a8a49b",
   "metadata": {},
   "outputs": [
    {
     "name": "stdout",
     "output_type": "stream",
     "text": [
      "Number of tweets with label 0 in train data:\n",
      "Number of tweets with label 1 in train data:\n",
      "Number of tweets with label 0 in test data:\n",
      "Number of tweets with label 1 in test data:\n"
     ]
    },
    {
     "data": {
      "text/plain": [
       "64"
      ]
     },
     "execution_count": 22,
     "metadata": {},
     "output_type": "execute_result"
    }
   ],
   "source": [
    "print(\"Number of tweets with label 0 in train data:\")\n",
    "our_dataset['train']['label'].count(0) \n",
    "\n",
    "print(\"Number of tweets with label 1 in train data:\")\n",
    "our_dataset['train']['label'].count(1)\n",
    "\n",
    "print(\"Number of tweets with label 0 in test data:\")\n",
    "our_dataset['test']['label'].count(0) \n",
    "\n",
    "print(\"Number of tweets with label 1 in test data:\")\n",
    "our_dataset['test']['label'].count(1)"
   ]
  },
  {
   "cell_type": "markdown",
   "id": "86579e2b-d476-4bba-9a2c-f94799c62964",
   "metadata": {},
   "source": [
    "#### Step 6 (Optional): Check How Encodings Get Created on a Single Example"
   ]
  },
  {
   "cell_type": "markdown",
   "id": "ba2be120-1b0d-4000-8ddd-a2eafc5af077",
   "metadata": {},
   "source": [
    "Explanation of parameters after tokenization:\n",
    "\n",
    "* **input_ids**: numeric inputs for tokens\n",
    "* the **first token** shows id for **CLS token**, which is used as a representation of the whole tweet and includes all contextual information\n",
    "* the **last token** in the input_id is usually a numeric representation for a separator token\n",
    "* thus, encoded tweet will have the following structure: **[cls token id], [ids for actual tokens], [id for token that indicates end of the tweet]**\n",
    "* **toke_type_ids**: for classification, it should include all 0s. It will only be different for next sentence prediction task where 0s will indicate sentence A and 1s will indicate sentence B\n",
    "* **attention_mask**: shows what tokens will be attended to or not; for those that are not attended we will have value 0. Usually, 0s will be used for tokens indicating paddings, since they are contextually meaningless. \n",
    "* In the example below, we specify to cut everything that is longer than 200 words thorugh **truncation** & **max_length** functions; we also asked to add tokens for sentences that are shorter than max length through **padding** function (in reality, we add paddings to match max length in a batch of data)"
   ]
  },
  {
   "cell_type": "code",
   "execution_count": 23,
   "id": "7c4e7ad0-55af-45c8-8f5e-c8bad0324097",
   "metadata": {},
   "outputs": [
    {
     "name": "stdout",
     "output_type": "stream",
     "text": [
      "Encoding structure for a single tweet:\n"
     ]
    },
    {
     "data": {
      "text/plain": [
       "{'input_ids': [0, 31414, 42, 16, 10, 7728, 3545, 7, 1649, 787, 13728, 28832, 415, 2054, 73, 1401, 4, 2050, 2, 1, 1, 1, 1, 1, 1, 1, 1, 1, 1, 1, 1, 1, 1, 1, 1, 1, 1, 1, 1, 1, 1, 1, 1, 1, 1, 1, 1, 1, 1, 1, 1, 1, 1, 1, 1, 1, 1, 1, 1, 1, 1, 1, 1, 1, 1, 1, 1, 1, 1, 1, 1, 1, 1, 1, 1, 1, 1, 1, 1, 1, 1, 1, 1, 1, 1, 1, 1, 1, 1, 1, 1, 1, 1, 1, 1, 1, 1, 1, 1, 1, 1, 1, 1, 1, 1, 1, 1, 1, 1, 1, 1, 1, 1, 1, 1, 1, 1, 1, 1, 1, 1, 1, 1, 1, 1, 1, 1, 1, 1, 1, 1, 1, 1, 1, 1, 1, 1, 1, 1, 1, 1, 1, 1, 1, 1, 1, 1, 1, 1, 1, 1, 1, 1, 1, 1, 1, 1, 1, 1, 1, 1, 1, 1, 1, 1, 1, 1, 1, 1, 1, 1, 1, 1, 1, 1, 1, 1, 1, 1, 1, 1, 1, 1, 1, 1, 1, 1, 1, 1, 1, 1, 1, 1, 1, 1, 1, 1, 1, 1, 1], 'attention_mask': [1, 1, 1, 1, 1, 1, 1, 1, 1, 1, 1, 1, 1, 1, 1, 1, 1, 1, 1, 0, 0, 0, 0, 0, 0, 0, 0, 0, 0, 0, 0, 0, 0, 0, 0, 0, 0, 0, 0, 0, 0, 0, 0, 0, 0, 0, 0, 0, 0, 0, 0, 0, 0, 0, 0, 0, 0, 0, 0, 0, 0, 0, 0, 0, 0, 0, 0, 0, 0, 0, 0, 0, 0, 0, 0, 0, 0, 0, 0, 0, 0, 0, 0, 0, 0, 0, 0, 0, 0, 0, 0, 0, 0, 0, 0, 0, 0, 0, 0, 0, 0, 0, 0, 0, 0, 0, 0, 0, 0, 0, 0, 0, 0, 0, 0, 0, 0, 0, 0, 0, 0, 0, 0, 0, 0, 0, 0, 0, 0, 0, 0, 0, 0, 0, 0, 0, 0, 0, 0, 0, 0, 0, 0, 0, 0, 0, 0, 0, 0, 0, 0, 0, 0, 0, 0, 0, 0, 0, 0, 0, 0, 0, 0, 0, 0, 0, 0, 0, 0, 0, 0, 0, 0, 0, 0, 0, 0, 0, 0, 0, 0, 0, 0, 0, 0, 0, 0, 0, 0, 0, 0, 0, 0, 0, 0, 0, 0, 0, 0, 0]}"
      ]
     },
     "execution_count": 23,
     "metadata": {},
     "output_type": "execute_result"
    }
   ],
   "source": [
    "print(\"Encoding structure for a single tweet:\")\n",
    "tokenizer('Hello this is a sample tweet to check @volhakat http/www.red',max_length=200, truncation=True, padding='max_length')"
   ]
  },
  {
   "cell_type": "markdown",
   "id": "74bcb94b-7aaf-493d-86be-85a587d611e5",
   "metadata": {},
   "source": [
    "As a proofcheck that everything works as planned, we can also decode encodings into words again based on input IDs to see how that looks like with these newly added additional tokens. \n",
    "* To do that, use the vector from **input_ids** key for **tokenizer.decode** function"
   ]
  },
  {
   "cell_type": "code",
   "execution_count": 24,
   "id": "a4a70c44-1b78-44a2-b660-81011e91bd24",
   "metadata": {},
   "outputs": [
    {
     "data": {
      "text/plain": [
       "'<s>Hello this is a sample tweet to check @volhakat http/www.red</s>'"
      ]
     },
     "execution_count": 24,
     "metadata": {},
     "output_type": "execute_result"
    }
   ],
   "source": [
    "tokenizer.decode([0, 31414, 42, 16, 10, 7728, 3545, 7, 1649, 787, 13728, 28832, 415, 2054, 73, 1401, 4, 2050, 2])"
   ]
  },
  {
   "cell_type": "markdown",
   "id": "d5e5d08f-2d13-4ba7-b2ea-df31a0442964",
   "metadata": {},
   "source": [
    "* Note that the output above may show:\n",
    "* **< s >** means CLS token representing whole sentence\n",
    "* **< /s >** means a separator token\n",
    "* **< pad >** is a padding token to match the length of the longest tweet in the bach"
   ]
  },
  {
   "cell_type": "markdown",
   "id": "ca38b210-c266-4189-9b32-7ef8e0862bd2",
   "metadata": {},
   "source": [
    "#### Step 7: Prepare Tweets for the Model"
   ]
  },
  {
   "cell_type": "markdown",
   "id": "5941f40f-7f95-4d05-b7df-9e1772f4d324",
   "metadata": {},
   "source": [
    "* We can repeat the same procedures (i.e., padding, truncation) for each batch.\n",
    "* **batch=True** makes it run a bit faster"
   ]
  },
  {
   "cell_type": "code",
   "execution_count": 25,
   "id": "eabaf131-357d-4afd-b10c-b1aec0ad8252",
   "metadata": {},
   "outputs": [],
   "source": [
    "def preprocess_function(examples):\n",
    "    return tokenizer(examples[\"tweets\"], truncation=True, padding = True, verbose=True) "
   ]
  },
  {
   "cell_type": "code",
   "execution_count": 26,
   "id": "c653bfd0-b3a8-43f1-8d26-1a70023aeb1c",
   "metadata": {},
   "outputs": [
    {
     "name": "stdout",
     "output_type": "stream",
     "text": [
      "huggingface/tokenizers: The current process just got forked, after parallelism has already been used. Disabling parallelism to avoid deadlocks...\n",
      "To disable this warning, you can either:\n",
      "\t- Avoid using `tokenizers` before the fork if possible\n",
      "\t- Explicitly set the environment variable TOKENIZERS_PARALLELISM=(true | false)\n"
     ]
    },
    {
     "data": {
      "application/vnd.jupyter.widget-view+json": {
       "model_id": "24bc4921df654e7aafe9794cc5100f19",
       "version_major": 2,
       "version_minor": 0
      },
      "text/plain": [
       "  0%|          | 0/1 [00:00<?, ?ba/s]"
      ]
     },
     "metadata": {},
     "output_type": "display_data"
    },
    {
     "data": {
      "application/vnd.jupyter.widget-view+json": {
       "model_id": "6b412d2fae0a40cb82a02777d91746f8",
       "version_major": 2,
       "version_minor": 0
      },
      "text/plain": [
       "  0%|          | 0/1 [00:00<?, ?ba/s]"
      ]
     },
     "metadata": {},
     "output_type": "display_data"
    }
   ],
   "source": [
    "seq_clf_tokenized_tweets = our_dataset.map(preprocess_function, batched=True)"
   ]
  },
  {
   "cell_type": "markdown",
   "id": "ea1d8131-acd0-48a3-819f-7e4e5bcce68d",
   "metadata": {},
   "source": [
    "* DataCollatorWithPadding is used in train function. It creates batches of data and dynamically pads text to the length of the longest element in the **batch** making them all the same length **within this batch**. It's also possible to pad your text in the **tokenizer** function with padding=True; however, dynamic padding (the one in the datacollator) is more efficient. Note that padding happening **on the right side** of the tweet. All these paddings will be ignored by attention mask (i.e., paddings should not be attended to by the model)."
   ]
  },
  {
   "cell_type": "code",
   "execution_count": 27,
   "id": "02fb412a-da11-4321-9ba0-4281f09fafba",
   "metadata": {},
   "outputs": [
    {
     "data": {
      "text/plain": [
       "DataCollatorWithPadding(tokenizer=RobertaTokenizerFast(name_or_path='roberta-base', vocab_size=50265, model_max_length=512, is_fast=True, padding_side='right', truncation_side='right', special_tokens={'bos_token': '<s>', 'eos_token': '</s>', 'unk_token': '<unk>', 'sep_token': '</s>', 'pad_token': '<pad>', 'cls_token': '<s>', 'mask_token': AddedToken(\"<mask>\", rstrip=False, lstrip=True, single_word=False, normalized=False)}), padding=True, max_length=None, pad_to_multiple_of=None, return_tensors='pt')"
      ]
     },
     "execution_count": 27,
     "metadata": {},
     "output_type": "execute_result"
    }
   ],
   "source": [
    "data_collator = DataCollatorWithPadding(tokenizer=tokenizer, padding=True)\n",
    "data_collator"
   ]
  },
  {
   "cell_type": "markdown",
   "id": "8f0e5918-325a-4176-b0e3-1c17f57b2608",
   "metadata": {},
   "source": [
    "* We can also see how our labels are tranformed into the inputs for the model. Note that we will not see a lot of differences because we have the same labels (0,1) as the default labels in the model (0,1). However, if we had categorical variables, we could see how they can be transformed into numeric labels.This dictionary includes **the following format**: {model_integer: original_string; model_integer: original_string}"
   ]
  },
  {
   "cell_type": "code",
   "execution_count": 28,
   "id": "0d738ba2-a3ae-465d-8960-05bdbd3e3626",
   "metadata": {},
   "outputs": [
    {
     "name": "stdout",
     "output_type": "stream",
     "text": [
      "Sumamry of model labels and actual labels:\n"
     ]
    },
    {
     "data": {
      "text/plain": [
       "{0: 0, 1: 1}"
      ]
     },
     "execution_count": 28,
     "metadata": {},
     "output_type": "execute_result"
    }
   ],
   "source": [
    "sequence_clf_model.config.id2label = {i: l for i, l in enumerate(unique_sequence_labels)}\n",
    "print(\"Sumamry of model labels and actual labels:\")\n",
    "sequence_clf_model.config.id2label "
   ]
  },
  {
   "cell_type": "markdown",
   "id": "8442d072-f6c4-4162-ab64-32f48d4e167c",
   "metadata": {},
   "source": [
    "#### Step 8: Prepare Arguments and Metrics for the Model\n",
    "\n",
    "Hugginface automatically calculates loss as its main metrics. Thus, we create a custom one to calculate f1 score.\n",
    "* custom method to take in logits and calculate accuracy/f1 score of the eval set\n",
    "* **eval_pred** comes directly from our training object; transformer object that appears during training stage\n",
    "* **eval_pred** has logits and labels\n",
    "* **logits** is a matrix of labels/matrix logits where n of rows is N of elements in batch; n of columns is N of sequence labels that we have\n",
    "* example of logit for one tweet: -0.46910447 -0.28945872 for 0 and 1 equavalent to 0.38 and 0.43 probs for 0 and 1. Then these values are compared against actual labels.\n",
    "* **labels** are actual labels/ground truth labels\n",
    "* **predictions** assign prediction to that index of the logit(0 or 1) that is higher(e.g., closer to 0 if negative)\n",
    "* to add **accuracy** measure, use: metric = evaluate.load(\"accuracy\")"
   ]
  },
  {
   "cell_type": "code",
   "execution_count": 29,
   "id": "cf77960f-fd27-484c-a9d2-6a6735e90f16",
   "metadata": {},
   "outputs": [],
   "source": [
    "def compute_metrics(eval_pred):\n",
    "    average = \"macro\"\n",
    "    d = {}\n",
    "    logits, labels = eval_pred\n",
    "    predictions = np.argmax(logits, axis=-1)\n",
    "    f1 = sklearn.metrics.f1_score(labels, predictions, average=average)\n",
    "    recall = sklearn.metrics.recall_score(labels, predictions, average=average)\n",
    "    precision = sklearn.metrics.precision_score(labels, predictions, average=average)\n",
    "    d[\"f1\"] = f1\n",
    "    d[\"recall\"] = recall\n",
    "    d[\"precision\"] = precision\n",
    "    return d"
   ]
  },
  {
   "cell_type": "markdown",
   "id": "cc444f84-df1b-4d3c-9432-459e4110a626",
   "metadata": {},
   "source": [
    "In the next block of code, we specify **Model Training Arguments** including:\n",
    "* number of **epochs** (suggested minimum=2; we should not go too high on this measure)\n",
    "* specify output directory **output_dir** to save checkpoints of the model\n",
    "* **batch_size** for train and evaluation\n",
    "* ask to load the model with the lowest evaluation loss **load_best_model_at_end**\n",
    "* **warmup_steps** is the number of warmup steps for learning rate scheduler; to avoid early-on overfitting by falling into a local minimum\n",
    "* **weight_decay** is penalty to the loss function\n",
    "* **logging_steps** is the minimal number of steps that we want to log between (better to log as much as possible)\n",
    "* **log_level='info'** outputs more logs than the standard variety\n",
    "* **evaluation_strategy='epoch'** how often we want to stop training and evaluate on our test set to check in how our model is doing; here we ask to evaluate model every epoch\n",
    "* **save_strategy='epoch'** we are going to save this model as many times as many epochs we have"
   ]
  },
  {
   "cell_type": "code",
   "execution_count": 30,
   "id": "d0e68d06-842a-4883-9bdb-2741cce1043f",
   "metadata": {},
   "outputs": [
    {
     "name": "stderr",
     "output_type": "stream",
     "text": [
      "Using the `WANDB_DISABLED` environment variable is deprecated and will be removed in v5. Use the --report_to flag to control the integrations used for logging result (for instance --report_to none).\n"
     ]
    }
   ],
   "source": [
    "epochs = 5\n",
    "\n",
    "training_args = TrainingArguments(\n",
    "    output_dir=\"./model_disaster/results\",\n",
    "    num_train_epochs=epochs,\n",
    "    per_device_train_batch_size=64, \n",
    "    per_device_eval_batch_size=64,  \n",
    "    load_best_model_at_end=True, \n",
    "    warmup_steps=len(seq_clf_tokenized_tweets['train']) // 5, \n",
    "    weight_decay = 0.01,\n",
    "    logging_steps=1,\n",
    "    log_level='info', \n",
    "    evaluation_strategy='epoch', \n",
    "    #eval_steps=50,\n",
    "    save_strategy='epoch',\n",
    "    learning_rate = 4e-5\n",
    ")\n",
    "\n",
    "# Define the trainer:\n",
    "\n",
    "trainer = Trainer(\n",
    "    model=sequence_clf_model, #model\n",
    "    args=training_args, #from above\n",
    "    train_dataset=seq_clf_tokenized_tweets['train'],\n",
    "    eval_dataset=seq_clf_tokenized_tweets['test'],\n",
    "    compute_metrics=compute_metrics, #our custom function from above\n",
    "    data_collator=data_collator #use our custom data collator from above for padding\n",
    ")"
   ]
  },
  {
   "cell_type": "markdown",
   "id": "ce98ff31-30e4-4388-9ada-7c32d919f679",
   "metadata": {},
   "source": [
    "#### Step 9: Run & Save the Model\n",
    "* **Get initial metrics**: run evaluation on our test data set by calculating loss & custom accuracy metric. **Initial loss** (i.e., based on initial/random weights and biases) should go down throughout training.\n",
    "* **Train the model** to update attention weights; query/key/value weights;feedforward layers. It will load the best model - the one with the lowest validation loss in our epochs. If needed, it is possible to save model based on other metrics (e.g., f1 score)\n",
    "* **Check loss at evaluation and F1 score**\n",
    "* **Save the model:** saves our model checkpoint to the directory that we specified\n",
    "* How optimization steps are considered: (Total tweets in train data)/(tweets per batch) * (number of epochs)"
   ]
  },
  {
   "cell_type": "code",
   "execution_count": 31,
   "id": "f04178fb-0b67-493f-8980-587a3befe298",
   "metadata": {},
   "outputs": [
    {
     "name": "stderr",
     "output_type": "stream",
     "text": [
      "The following columns in the training set don't have a corresponding argument in `RobertaForSequenceClassification.forward` and have been ignored: tweets. If tweets are not expected by `RobertaForSequenceClassification.forward`,  you can safely ignore this message.\n",
      "/Users/volhakatebi/miniconda3/envs/transformers/lib/python3.10/site-packages/transformers/optimization.py:306: FutureWarning: This implementation of AdamW is deprecated and will be removed in a future version. Use the PyTorch implementation torch.optim.AdamW instead, or set `no_deprecation_warning=True` to disable this warning\n",
      "  warnings.warn(\n",
      "***** Running training *****\n",
      "  Num examples = 800\n",
      "  Num Epochs = 5\n",
      "  Instantaneous batch size per device = 64\n",
      "  Total train batch size (w. parallel, distributed & accumulation) = 64\n",
      "  Gradient Accumulation steps = 1\n",
      "  Total optimization steps = 65\n",
      "  Number of trainable parameters = 124647170\n",
      "You're using a RobertaTokenizerFast tokenizer. Please note that with a fast tokenizer, using the `__call__` method is faster than using a method to encode the text followed by a call to the `pad` method to get a padded encoding.\n"
     ]
    },
    {
     "data": {
      "text/html": [
       "\n",
       "    <div>\n",
       "      \n",
       "      <progress value='65' max='65' style='width:300px; height:20px; vertical-align: middle;'></progress>\n",
       "      [65/65 07:09, Epoch 5/5]\n",
       "    </div>\n",
       "    <table border=\"1\" class=\"dataframe\">\n",
       "  <thead>\n",
       " <tr style=\"text-align: left;\">\n",
       "      <th>Epoch</th>\n",
       "      <th>Training Loss</th>\n",
       "      <th>Validation Loss</th>\n",
       "      <th>F1</th>\n",
       "      <th>Recall</th>\n",
       "      <th>Precision</th>\n",
       "    </tr>\n",
       "  </thead>\n",
       "  <tbody>\n",
       "    <tr>\n",
       "      <td>1</td>\n",
       "      <td>0.676900</td>\n",
       "      <td>0.681467</td>\n",
       "      <td>0.404762</td>\n",
       "      <td>0.500000</td>\n",
       "      <td>0.340000</td>\n",
       "    </tr>\n",
       "    <tr>\n",
       "      <td>2</td>\n",
       "      <td>0.627300</td>\n",
       "      <td>0.654062</td>\n",
       "      <td>0.404762</td>\n",
       "      <td>0.500000</td>\n",
       "      <td>0.340000</td>\n",
       "    </tr>\n",
       "    <tr>\n",
       "      <td>3</td>\n",
       "      <td>0.602900</td>\n",
       "      <td>0.622653</td>\n",
       "      <td>0.404762</td>\n",
       "      <td>0.500000</td>\n",
       "      <td>0.340000</td>\n",
       "    </tr>\n",
       "    <tr>\n",
       "      <td>4</td>\n",
       "      <td>0.560700</td>\n",
       "      <td>0.537673</td>\n",
       "      <td>0.404762</td>\n",
       "      <td>0.500000</td>\n",
       "      <td>0.340000</td>\n",
       "    </tr>\n",
       "    <tr>\n",
       "      <td>5</td>\n",
       "      <td>0.363600</td>\n",
       "      <td>0.515153</td>\n",
       "      <td>0.761285</td>\n",
       "      <td>0.780331</td>\n",
       "      <td>0.754167</td>\n",
       "    </tr>\n",
       "  </tbody>\n",
       "</table><p>"
      ],
      "text/plain": [
       "<IPython.core.display.HTML object>"
      ]
     },
     "metadata": {},
     "output_type": "display_data"
    },
    {
     "name": "stderr",
     "output_type": "stream",
     "text": [
      "The following columns in the evaluation set don't have a corresponding argument in `RobertaForSequenceClassification.forward` and have been ignored: tweets. If tweets are not expected by `RobertaForSequenceClassification.forward`,  you can safely ignore this message.\n",
      "***** Running Evaluation *****\n",
      "  Num examples = 200\n",
      "  Batch size = 64\n",
      "/Users/volhakatebi/miniconda3/envs/transformers/lib/python3.10/site-packages/sklearn/metrics/_classification.py:1318: UndefinedMetricWarning: Precision is ill-defined and being set to 0.0 in labels with no predicted samples. Use `zero_division` parameter to control this behavior.\n",
      "  _warn_prf(average, modifier, msg_start, len(result))\n",
      "Saving model checkpoint to ./model_disaster/results/checkpoint-13\n",
      "Configuration saved in ./model_disaster/results/checkpoint-13/config.json\n",
      "Model weights saved in ./model_disaster/results/checkpoint-13/pytorch_model.bin\n",
      "The following columns in the evaluation set don't have a corresponding argument in `RobertaForSequenceClassification.forward` and have been ignored: tweets. If tweets are not expected by `RobertaForSequenceClassification.forward`,  you can safely ignore this message.\n",
      "***** Running Evaluation *****\n",
      "  Num examples = 200\n",
      "  Batch size = 64\n",
      "/Users/volhakatebi/miniconda3/envs/transformers/lib/python3.10/site-packages/sklearn/metrics/_classification.py:1318: UndefinedMetricWarning: Precision is ill-defined and being set to 0.0 in labels with no predicted samples. Use `zero_division` parameter to control this behavior.\n",
      "  _warn_prf(average, modifier, msg_start, len(result))\n",
      "Saving model checkpoint to ./model_disaster/results/checkpoint-26\n",
      "Configuration saved in ./model_disaster/results/checkpoint-26/config.json\n",
      "Model weights saved in ./model_disaster/results/checkpoint-26/pytorch_model.bin\n",
      "The following columns in the evaluation set don't have a corresponding argument in `RobertaForSequenceClassification.forward` and have been ignored: tweets. If tweets are not expected by `RobertaForSequenceClassification.forward`,  you can safely ignore this message.\n",
      "***** Running Evaluation *****\n",
      "  Num examples = 200\n",
      "  Batch size = 64\n",
      "/Users/volhakatebi/miniconda3/envs/transformers/lib/python3.10/site-packages/sklearn/metrics/_classification.py:1318: UndefinedMetricWarning: Precision is ill-defined and being set to 0.0 in labels with no predicted samples. Use `zero_division` parameter to control this behavior.\n",
      "  _warn_prf(average, modifier, msg_start, len(result))\n",
      "Saving model checkpoint to ./model_disaster/results/checkpoint-39\n",
      "Configuration saved in ./model_disaster/results/checkpoint-39/config.json\n",
      "Model weights saved in ./model_disaster/results/checkpoint-39/pytorch_model.bin\n",
      "The following columns in the evaluation set don't have a corresponding argument in `RobertaForSequenceClassification.forward` and have been ignored: tweets. If tweets are not expected by `RobertaForSequenceClassification.forward`,  you can safely ignore this message.\n",
      "***** Running Evaluation *****\n",
      "  Num examples = 200\n",
      "  Batch size = 64\n",
      "/Users/volhakatebi/miniconda3/envs/transformers/lib/python3.10/site-packages/sklearn/metrics/_classification.py:1318: UndefinedMetricWarning: Precision is ill-defined and being set to 0.0 in labels with no predicted samples. Use `zero_division` parameter to control this behavior.\n",
      "  _warn_prf(average, modifier, msg_start, len(result))\n",
      "Saving model checkpoint to ./model_disaster/results/checkpoint-52\n",
      "Configuration saved in ./model_disaster/results/checkpoint-52/config.json\n",
      "Model weights saved in ./model_disaster/results/checkpoint-52/pytorch_model.bin\n",
      "The following columns in the evaluation set don't have a corresponding argument in `RobertaForSequenceClassification.forward` and have been ignored: tweets. If tweets are not expected by `RobertaForSequenceClassification.forward`,  you can safely ignore this message.\n",
      "***** Running Evaluation *****\n",
      "  Num examples = 200\n",
      "  Batch size = 64\n",
      "Saving model checkpoint to ./model_disaster/results/checkpoint-65\n",
      "Configuration saved in ./model_disaster/results/checkpoint-65/config.json\n",
      "Model weights saved in ./model_disaster/results/checkpoint-65/pytorch_model.bin\n",
      "\n",
      "\n",
      "Training completed. Do not forget to share your model on huggingface.co/models =)\n",
      "\n",
      "\n",
      "Loading best model from ./model_disaster/results/checkpoint-65 (score: 0.5151525735855103).\n"
     ]
    }
   ],
   "source": [
    "tdf = trainer.train()"
   ]
  },
  {
   "cell_type": "markdown",
   "id": "118b20ff-7a06-4a79-8233-8b8a04a25ef4",
   "metadata": {},
   "source": [
    "#### Step 10: Plot Train VS Validation Loss\n",
    "* note: loss is train loss; eval loss is validation loss"
   ]
  },
  {
   "cell_type": "code",
   "execution_count": 32,
   "id": "d7a4cd77-5b9e-4ec9-b27f-1d5fa6ea03ea",
   "metadata": {},
   "outputs": [],
   "source": [
    "outputinfo = pd.DataFrame(trainer.state.log_history)"
   ]
  },
  {
   "cell_type": "code",
   "execution_count": 33,
   "id": "d3a63f90-52a0-40e0-b145-62e9497b1274",
   "metadata": {},
   "outputs": [],
   "source": [
    "outputinfo2 = outputinfo[[\"epoch\",\"loss\", \"train_loss\",\"eval_loss\",\"eval_f1\"]]"
   ]
  },
  {
   "cell_type": "code",
   "execution_count": 34,
   "id": "c0c8bced-28ea-45f0-b291-9af80dbb104e",
   "metadata": {},
   "outputs": [],
   "source": [
    "outputinfo3 = outputinfo2[(outputinfo2['epoch'] == 1.00) | \n",
    "                          (outputinfo2['epoch'] == 2.00) |\n",
    "                          (outputinfo2['epoch'] == 3.00) |\n",
    "                          (outputinfo2['epoch'] == 4.00) | \n",
    "                          (outputinfo2['epoch'] == 5.00) ]"
   ]
  },
  {
   "cell_type": "code",
   "execution_count": 35,
   "id": "a0b321bb-1f05-4111-b8b1-3f1d4e499262",
   "metadata": {},
   "outputs": [],
   "source": [
    "tr_loss = outputinfo3.dropna(subset=['loss']).drop(columns = ['eval_loss', 'train_loss', 'eval_f1']).drop_duplicates()\n",
    "val_loss = outputinfo3.dropna(subset=['eval_loss']).drop(columns = ['loss', 'train_loss']).drop_duplicates()"
   ]
  },
  {
   "cell_type": "code",
   "execution_count": 36,
   "id": "c340f1d1-8602-4ef9-81a4-dd80c5ec49b7",
   "metadata": {},
   "outputs": [],
   "source": [
    "tr_val_loss_df = pd.merge(tr_loss,val_loss, how='left', left_on=['epoch'], right_on=['epoch'])\n",
    "tr_val_loss_df = tr_val_loss_df.rename(columns={\"loss\": \"train_loss\", \"eval_loss\": \"valid_loss\"})\n",
    "train_values = tr_val_loss_df['train_loss'].to_list()\n",
    "valid_values = tr_val_loss_df['valid_loss'].to_list()\n",
    "epochs = range(1,6)"
   ]
  },
  {
   "cell_type": "code",
   "execution_count": 37,
   "id": "f7723031-b753-44ec-8e6e-c086ff12c72a",
   "metadata": {},
   "outputs": [
    {
     "data": {
      "image/png": "[encoded data removed]",
      "text/plain": [
       "<Figure size 640x480 with 1 Axes>"
      ]
     },
     "metadata": {},
     "output_type": "display_data"
    }
   ],
   "source": [
    "plt.plot(epochs, train_values, label='Training Loss')\n",
    "plt.plot(epochs, valid_values, label='Validation Loss')\n",
    "plt.title('Training and Validation Loss')\n",
    "plt.xlabel('Epochs')\n",
    "plt.ylabel('Loss')\n",
    "plt.xticks(arange(1, 6, 1))\n",
    "plt.legend(loc='best')\n",
    "plt.show()"
   ]
  },
  {
   "cell_type": "markdown",
   "id": "ae91b592-dfc9-4d47-9485-628a7896f865",
   "metadata": {},
   "source": [
    "#### Step 11: Check Metrics for the Best Model"
   ]
  },
  {
   "cell_type": "code",
   "execution_count": 38,
   "id": "eec4acb7-6b13-42f8-a76e-49fa36a5b06b",
   "metadata": {
    "tags": []
   },
   "outputs": [
    {
     "name": "stderr",
     "output_type": "stream",
     "text": [
      "The following columns in the evaluation set don't have a corresponding argument in `RobertaForSequenceClassification.forward` and have been ignored: tweets. If tweets are not expected by `RobertaForSequenceClassification.forward`,  you can safely ignore this message.\n",
      "***** Running Evaluation *****\n",
      "  Num examples = 200\n",
      "  Batch size = 64\n"
     ]
    },
    {
     "data": {
      "text/html": [
       "\n",
       "    <div>\n",
       "      \n",
       "      <progress value='4' max='4' style='width:300px; height:20px; vertical-align: middle;'></progress>\n",
       "      [4/4 00:02]\n",
       "    </div>\n",
       "    "
      ],
      "text/plain": [
       "<IPython.core.display.HTML object>"
      ]
     },
     "metadata": {},
     "output_type": "display_data"
    },
    {
     "data": {
      "text/plain": [
       "{'eval_loss': 0.5151525735855103,\n",
       " 'eval_f1': 0.7612847222222223,\n",
       " 'eval_recall': 0.7803308823529411,\n",
       " 'eval_precision': 0.7541666666666667,\n",
       " 'eval_runtime': 3.611,\n",
       " 'eval_samples_per_second': 55.387,\n",
       " 'eval_steps_per_second': 1.108,\n",
       " 'epoch': 5.0}"
      ]
     },
     "execution_count": 38,
     "metadata": {},
     "output_type": "execute_result"
    }
   ],
   "source": [
    "trainer.evaluate()"
   ]
  },
  {
   "cell_type": "code",
   "execution_count": 39,
   "id": "3ddb0812-a9eb-4575-af09-d6a9de06f085",
   "metadata": {},
   "outputs": [
    {
     "name": "stderr",
     "output_type": "stream",
     "text": [
      "Saving model checkpoint to ./model_disaster/results\n",
      "Configuration saved in ./model_disaster/results/config.json\n",
      "Model weights saved in ./model_disaster/results/pytorch_model.bin\n"
     ]
    }
   ],
   "source": [
    "trainer.save_model() #save model"
   ]
  },
  {
   "cell_type": "markdown",
   "id": "f60d54b2-3839-4162-8ffb-9b310a49beb2",
   "metadata": {},
   "source": [
    "#### Step 12: Identify Missclassified Tweets in the Train Data"
   ]
  },
  {
   "cell_type": "code",
   "execution_count": 40,
   "id": "7d5a035e-5649-43bf-8694-59b859bf4792",
   "metadata": {},
   "outputs": [],
   "source": [
    "test_text = our_dataset['test']['tweets'] #list of tweets in train data\n",
    "test_labels = our_dataset['test']['label'] #list of tweets in test data"
   ]
  },
  {
   "cell_type": "code",
   "execution_count": 41,
   "id": "46c16212-c7c9-4bd0-b19e-4ff326f2dd9f",
   "metadata": {},
   "outputs": [
    {
     "name": "stderr",
     "output_type": "stream",
     "text": [
      "loading configuration file ./model_disaster/results/config.json\n",
      "Model config RobertaConfig {\n",
      "  \"_name_or_path\": \"./model_disaster/results\",\n",
      "  \"architectures\": [\n",
      "    \"RobertaForSequenceClassification\"\n",
      "  ],\n",
      "  \"attention_probs_dropout_prob\": 0.1,\n",
      "  \"bos_token_id\": 0,\n",
      "  \"classifier_dropout\": null,\n",
      "  \"eos_token_id\": 2,\n",
      "  \"hidden_act\": \"gelu\",\n",
      "  \"hidden_dropout_prob\": 0.2,\n",
      "  \"hidden_size\": 768,\n",
      "  \"id2label\": {\n",
      "    \"0\": 0,\n",
      "    \"1\": 1\n",
      "  },\n",
      "  \"initializer_range\": 0.02,\n",
      "  \"intermediate_size\": 3072,\n",
      "  \"label2id\": null,\n",
      "  \"layer_norm_eps\": 1e-05,\n",
      "  \"max_position_embeddings\": 514,\n",
      "  \"model_type\": \"roberta\",\n",
      "  \"num_attention_heads\": 12,\n",
      "  \"num_hidden_layers\": 12,\n",
      "  \"pad_token_id\": 1,\n",
      "  \"position_embedding_type\": \"absolute\",\n",
      "  \"problem_type\": \"single_label_classification\",\n",
      "  \"torch_dtype\": \"float32\",\n",
      "  \"transformers_version\": \"4.26.0\",\n",
      "  \"type_vocab_size\": 1,\n",
      "  \"use_cache\": true,\n",
      "  \"vocab_size\": 50265\n",
      "}\n",
      "\n",
      "loading configuration file ./model_disaster/results/config.json\n",
      "Model config RobertaConfig {\n",
      "  \"_name_or_path\": \"./model_disaster/results\",\n",
      "  \"architectures\": [\n",
      "    \"RobertaForSequenceClassification\"\n",
      "  ],\n",
      "  \"attention_probs_dropout_prob\": 0.1,\n",
      "  \"bos_token_id\": 0,\n",
      "  \"classifier_dropout\": null,\n",
      "  \"eos_token_id\": 2,\n",
      "  \"hidden_act\": \"gelu\",\n",
      "  \"hidden_dropout_prob\": 0.2,\n",
      "  \"hidden_size\": 768,\n",
      "  \"id2label\": {\n",
      "    \"0\": 0,\n",
      "    \"1\": 1\n",
      "  },\n",
      "  \"initializer_range\": 0.02,\n",
      "  \"intermediate_size\": 3072,\n",
      "  \"label2id\": null,\n",
      "  \"layer_norm_eps\": 1e-05,\n",
      "  \"max_position_embeddings\": 514,\n",
      "  \"model_type\": \"roberta\",\n",
      "  \"num_attention_heads\": 12,\n",
      "  \"num_hidden_layers\": 12,\n",
      "  \"pad_token_id\": 1,\n",
      "  \"position_embedding_type\": \"absolute\",\n",
      "  \"problem_type\": \"single_label_classification\",\n",
      "  \"torch_dtype\": \"float32\",\n",
      "  \"transformers_version\": \"4.26.0\",\n",
      "  \"type_vocab_size\": 1,\n",
      "  \"use_cache\": true,\n",
      "  \"vocab_size\": 50265\n",
      "}\n",
      "\n",
      "loading weights file ./model_disaster/results/pytorch_model.bin\n",
      "All model checkpoint weights were used when initializing RobertaForSequenceClassification.\n",
      "\n",
      "All the weights of RobertaForSequenceClassification were initialized from the model checkpoint at ./model_disaster/results.\n",
      "If your task is similar to the task the model of the checkpoint was trained on, you can already use RobertaForSequenceClassification for predictions without further training.\n"
     ]
    }
   ],
   "source": [
    "pipe = pipeline(\"text-classification\", \"./model_disaster/results\", tokenizer=tokenizer)"
   ]
  },
  {
   "cell_type": "code",
   "execution_count": 42,
   "id": "0b2d721c-0985-42d2-baee-3d7283033d37",
   "metadata": {},
   "outputs": [
    {
     "name": "stderr",
     "output_type": "stream",
     "text": [
      "Disabling tokenizer parallelism, we're using DataLoader multithreading already\n"
     ]
    }
   ],
   "source": [
    "preds = pipe(test_text)"
   ]
  },
  {
   "cell_type": "code",
   "execution_count": 43,
   "id": "63c34210-23d6-460a-99a9-94e03372dcae",
   "metadata": {},
   "outputs": [],
   "source": [
    "pred_labels = []\n",
    "\n",
    "for p in preds:\n",
    "    pred_labels.append(p['label'])   "
   ]
  },
  {
   "cell_type": "code",
   "execution_count": 44,
   "id": "0ece8e53-ef94-496d-a6d2-a71515db103c",
   "metadata": {},
   "outputs": [],
   "source": [
    "miss_classified_inds = []\n",
    "\n",
    "for ind in range(len(test_labels)): \n",
    "    if pred_labels[ind]!=test_labels[ind]: \n",
    "        miss_classified_inds.append(ind) "
   ]
  },
  {
   "cell_type": "code",
   "execution_count": 45,
   "id": "306a51ec-e4bf-427f-95e0-5cee65cfdeca",
   "metadata": {},
   "outputs": [],
   "source": [
    "missclassfied_text = []\n",
    "for ind in miss_classified_inds: \n",
    "    r = {\n",
    "        'text': test_text[ind],\n",
    "        'label': test_labels[ind], \n",
    "        'pred': pred_labels[ind] \n",
    "    }\n",
    "    missclassfied_text.append(r)"
   ]
  },
  {
   "cell_type": "code",
   "execution_count": 46,
   "id": "4b0a212a-3126-4ffb-8c67-9678c477a42d",
   "metadata": {},
   "outputs": [
    {
     "name": "stdout",
     "output_type": "stream",
     "text": [
      "Missclassified Tweets:\n"
     ]
    },
    {
     "data": {
      "text/html": [
       "<div>\n",
       "<style scoped>\n",
       "    .dataframe tbody tr th:only-of-type {\n",
       "        vertical-align: middle;\n",
       "    }\n",
       "\n",
       "    .dataframe tbody tr th {\n",
       "        vertical-align: top;\n",
       "    }\n",
       "\n",
       "    .dataframe thead th {\n",
       "        text-align: right;\n",
       "    }\n",
       "</style>\n",
       "<table border=\"1\" class=\"dataframe\">\n",
       "  <thead>\n",
       "    <tr style=\"text-align: right;\">\n",
       "      <th></th>\n",
       "      <th>text</th>\n",
       "      <th>label</th>\n",
       "      <th>pred</th>\n",
       "    </tr>\n",
       "  </thead>\n",
       "  <tbody>\n",
       "    <tr>\n",
       "      <th>0</th>\n",
       "      <td>guaranteed been bitten by some mutant mosquito my ankle has blown up. little cunts</td>\n",
       "      <td>0</td>\n",
       "      <td>1</td>\n",
       "    </tr>\n",
       "    <tr>\n",
       "      <th>1</th>\n",
       "      <td>stay vigilent. civil liberties are under constant attack. #nativehuman #myreligion</td>\n",
       "      <td>1</td>\n",
       "      <td>0</td>\n",
       "    </tr>\n",
       "    <tr>\n",
       "      <th>2</th>\n",
       "      <td>owner of chicago-area gay bar admits to arson scheme via #lgbt</td>\n",
       "      <td>0</td>\n",
       "      <td>1</td>\n",
       "    </tr>\n",
       "  </tbody>\n",
       "</table>\n",
       "</div>"
      ],
      "text/plain": [
       "                                                                                 text  \\\n",
       "0  guaranteed been bitten by some mutant mosquito my ankle has blown up. little cunts   \n",
       "1  stay vigilent. civil liberties are under constant attack. #nativehuman #myreligion   \n",
       "2                      owner of chicago-area gay bar admits to arson scheme via #lgbt   \n",
       "\n",
       "   label  pred  \n",
       "0      0     1  \n",
       "1      1     0  \n",
       "2      0     1  "
      ]
     },
     "execution_count": 46,
     "metadata": {},
     "output_type": "execute_result"
    }
   ],
   "source": [
    "missclassfied_df = pd.DataFrame(missclassfied_text)\n",
    "print(\"Missclassified Tweets:\")\n",
    "missclassfied_df.head(3)"
   ]
  },
  {
   "cell_type": "markdown",
   "id": "68de0ead-b3fb-42d2-8a0e-b7826994ff15",
   "metadata": {},
   "source": [
    "#### Step 13: Explore Additional Metrics for Model Performance"
   ]
  },
  {
   "cell_type": "code",
   "execution_count": 47,
   "id": "05f8e437-d099-4dc6-8e28-a6ac4e8fe384",
   "metadata": {},
   "outputs": [
    {
     "name": "stdout",
     "output_type": "stream",
     "text": [
      "              precision    recall  f1-score   support\n",
      "\n",
      "           0       0.88      0.78      0.83       136\n",
      "           1       0.62      0.78      0.69        64\n",
      "\n",
      "    accuracy                           0.78       200\n",
      "   macro avg       0.75      0.78      0.76       200\n",
      "weighted avg       0.80      0.78      0.79       200\n",
      "\n"
     ]
    }
   ],
   "source": [
    "print(classification_report(test_labels, pred_labels))"
   ]
  },
  {
   "cell_type": "code",
   "execution_count": 48,
   "id": "9e5c8053-b47b-495e-86fd-220c05b45731",
   "metadata": {},
   "outputs": [],
   "source": [
    "cm = sklearn.metrics.confusion_matrix(test_labels, pred_labels, labels=None, sample_weight=None, normalize=None)"
   ]
  },
  {
   "cell_type": "code",
   "execution_count": 49,
   "id": "9588abb4-a622-43ac-ba33-0403e0528776",
   "metadata": {},
   "outputs": [
    {
     "data": {
      "image/png": "[encoded data removed]",
      "text/plain": [
       "<Figure size 640x480 with 2 Axes>"
      ]
     },
     "metadata": {},
     "output_type": "display_data"
    }
   ],
   "source": [
    "disp = ConfusionMatrixDisplay(confusion_matrix=cm)\n",
    "disp.plot()\n",
    "plt.show()"
   ]
  }
 ],
 "metadata": {
  "kernelspec": {
   "display_name": "Python [conda env:transformers]",
   "language": "python",
   "name": "conda-env-transformers-py"
  },
  "language_info": {
   "codemirror_mode": {
    "name": "ipython",
    "version": 3
   },
   "file_extension": ".py",
   "mimetype": "text/x-python",
   "name": "python",
   "nbconvert_exporter": "python",
   "pygments_lexer": "ipython3",
   "version": "3.10.9"
  }
 },
 "nbformat": 4,
 "nbformat_minor": 5
}
